{
 "cells": [
  {
   "cell_type": "markdown",
   "metadata": {},
   "source": [
    "# Improving neural network by optimizing gradient descent\n",
    "\n",
    " 1. Change the number of observations to 100,000 and see what happens.\n",
    "    2. Change the number of observations to 1,000,000 and see what happens.\n",
    "    3. Play around with the learning rate. Values like 0.0001, 0.001, 0.1, 1 are all interesting to observe. \n",
    "    4. Change the loss function. L2-norm loss (without dividing by 2) is a good way to start. \n",
    "    5. Тry with the L1-norm loss, given by the sum of the ABSOLUTE value of yj - tj. The L1-norm loss is given by:\n",
    "## $$ \\Sigma_i = |y_i-t_i| $$\n",
    "    6. Create a function f(x,z) = 13*xs + 7*zs - 12. Does the algorithm work in the same way?\n",
    "    \n",
    "   "
   ]
  },
  {
   "cell_type": "code",
   "execution_count": 1,
   "metadata": {},
   "outputs": [],
   "source": [
    "import numpy as np\n",
    "import matplotlib.pyplot as plt\n",
    "from mpl_toolkits.mplot3d import Axes3D"
   ]
  },
  {
   "cell_type": "markdown",
   "metadata": {},
   "source": [
    "### Generate random input data to train on"
   ]
  },
  {
   "cell_type": "code",
   "execution_count": 2,
   "metadata": {},
   "outputs": [
    {
     "name": "stdout",
     "output_type": "stream",
     "text": [
      "(10000, 2)\n"
     ]
    }
   ],
   "source": [
    "# declare a variable containing the size of the training set to generate\n",
    "observations = 10000\n",
    "xs = np.random.uniform(low = -10, size =(observations,1))\n",
    "zs = np.random.uniform(-10,10,(observations,1))\n",
    "\n",
    "#combine two dimensions of the input into one input matrix\n",
    "# This is the X matrix from the linear model y=ax+b where a = weight, b= bias\n",
    "inputs = np.column_stack((xs,zs))\n",
    "\n",
    "print(inputs.shape)"
   ]
  },
  {
   "cell_type": "markdown",
   "metadata": {},
   "source": [
    "### Generate the targets we will aim at"
   ]
  },
  {
   "cell_type": "code",
   "execution_count": 3,
   "metadata": {},
   "outputs": [
    {
     "name": "stdout",
     "output_type": "stream",
     "text": [
      "(10000, 1)\n"
     ]
    }
   ],
   "source": [
    "# We want to \"make up\" a function, use the ML methodology, and see if the algorithm has learned it.\n",
    "# We add a small random noise to the function i.e. f(x,z) = 2x - 3z + 5 + <small noise>\n",
    "noise = np.random.uniform(-1, 1, (observations,1))\n",
    "\n",
    "# Produce the targets according to the f(x,z) = 2x - 3z + 5 + noise definition.\n",
    "# In this way, we are basically saying: the weights should be 2 and -3, while the bias is 5.\n",
    "targets = 2*xs - 3*zs + 5 + noise\n",
    "\n",
    "# Check the shape of the targets just in case. It should be n x m, where m is the number of output variables, so 1000 x 1.\n",
    "print (targets.shape)"
   ]
  },
  {
   "cell_type": "markdown",
   "metadata": {},
   "source": [
    "### Plot the training data\n",
    "The point is to see that there is a strong trend that our model should learn to reproduce."
   ]
  },
  {
   "cell_type": "code",
   "execution_count": 4,
   "metadata": {},
   "outputs": [
    {
     "data": {
      "image/png": "[encoded data removed]",
      "text/plain": [
       "<Figure size 432x288 with 1 Axes>"
      ]
     },
     "metadata": {
      "needs_background": "light"
     },
     "output_type": "display_data"
    }
   ],
   "source": [
    "targets = targets.reshape(observations,)\n",
    "\n",
    "fig = plt.figure()\n",
    "\n",
    "ax = fig.add_subplot(111, projection = '3d')\n",
    "\n",
    "ax.plot(xs,zs,targets)\n",
    "\n",
    "ax.set_xlabel('xs')\n",
    "ax.set_ylabel('zs')\n",
    "ax.set_zlabel('Targets')\n",
    "\n",
    "ax.view_init(azim=100)\n",
    "plt.show()\n",
    "targets = targets.reshape(observations,1)"
   ]
  },
  {
   "cell_type": "markdown",
   "metadata": {},
   "source": [
    "# Initialize Variables"
   ]
  },
  {
   "cell_type": "code",
   "execution_count": 5,
   "metadata": {},
   "outputs": [
    {
     "name": "stdout",
     "output_type": "stream",
     "text": [
      "[[ 0.01973339]\n",
      " [-0.02630572]]\n",
      "[-0.05816909]\n"
     ]
    }
   ],
   "source": [
    "init_range = 0.1\n",
    "\n",
    "weights = np.random.uniform(low=-init_range, high=init_range, size=(2, 1))\n",
    "\n",
    "biases = np.random.uniform(low=-init_range, high=init_range, size=1)\n",
    "\n",
    "print(weights)\n",
    "print(biases)"
   ]
  },
  {
   "cell_type": "markdown",
   "metadata": {},
   "source": [
    "### set a learning rate"
   ]
  },
  {
   "cell_type": "code",
   "execution_count": 6,
   "metadata": {},
   "outputs": [],
   "source": [
    "learning_rate = 0.02"
   ]
  },
  {
   "cell_type": "code",
   "execution_count": 7,
   "metadata": {},
   "outputs": [
    {
     "name": "stdout",
     "output_type": "stream",
     "text": [
      "174.29473068454126\n",
      "24.092065779011747\n",
      "6.827886269061843\n",
      "4.778538734557276\n",
      "4.489139372996937\n",
      "4.406282097914564\n",
      "4.348531204404682\n",
      "4.29441299281675\n",
      "4.241343063756377\n",
      "4.188998905077391\n",
      "4.137332974614578\n",
      "4.086331757672261\n",
      "4.035986099950261\n",
      "3.9862874971983766\n",
      "3.9372276231209815\n",
      "3.888798267400806\n",
      "3.8409913264248177\n",
      "3.793798800885908\n",
      "3.747212794305468\n",
      "3.701225511693422\n",
      "3.655829258241403\n",
      "3.6110164380348753\n",
      "3.5667795527821085\n",
      "3.523111200559511\n",
      "3.4800040745731122\n",
      "3.4374509619359594\n",
      "3.3954447424612098\n",
      "3.3539783874707565\n",
      "3.3130449586191624\n",
      "3.2726376067326908\n",
      "3.2327495706632776\n",
      "3.193374176157222\n",
      "3.1545048347384195\n",
      "3.116135042605952\n",
      "3.0782583795458236\n",
      "3.0408685078567292\n",
      "3.00395917128957\n",
      "2.9675241940006507\n",
      "2.931557479518301\n",
      "2.8960530097227775\n",
      "2.8610048438392974\n",
      "2.826407117443989\n",
      "2.7922540414826393\n",
      "2.758539901302029\n",
      "2.72525905569374\n",
      "2.6924059359502404\n",
      "2.6599750449330974\n",
      "2.6279609561531787\n",
      "2.5963583128626544\n",
      "2.5651618271586933\n",
      "2.5343662790986605\n",
      "2.5039665158266904\n",
      "2.4739574507114894\n",
      "2.4443340624952152\n",
      "2.4150913944532997\n",
      "2.386224553565062\n",
      "2.3577287096949884\n",
      "2.3295990947845304\n",
      "2.301831002054288\n",
      "2.2744197852164536\n",
      "2.2473608576973727\n",
      "2.220649691870095\n",
      "2.1942818182967896\n",
      "2.1682528249809008\n",
      "2.1425583566289097\n",
      "2.1171941139215895\n",
      "2.0921558527946162\n",
      "2.0674393837284386\n",
      "2.0430405710472677\n",
      "2.018955332227071\n",
      "1.9951796372124693\n",
      "1.9717095077424087\n",
      "1.9485410166844976\n",
      "1.9256702873779017\n",
      "1.9030934929846848\n",
      "1.8808068558494786\n",
      "1.8588066468673934\n",
      "1.8370891848600441\n",
      "1.8156508359595973\n",
      "1.7944880130007401\n",
      "1.7735971749204527\n",
      "1.7529748261655018\n",
      "1.732617516107556\n",
      "1.7125218384657979\n",
      "1.6926844307369815\n",
      "1.6731019736327921\n",
      "1.6537711905244545\n",
      "1.6346888468944696\n",
      "1.6158517497954008\n",
      "1.5972567473156092\n",
      "1.5789007280518697\n",
      "1.5607806205887529\n",
      "1.5428933929846982\n",
      "1.5252360522646982\n",
      "1.507805643919502\n",
      "1.4905992514112463\n",
      "1.473613995685455\n",
      "1.4568470346892954\n",
      "1.4402955628960354\n",
      "1.423956810835609\n"
     ]
    }
   ],
   "source": [
    "for i in range(100):\n",
    "    outputs = np.dot(inputs,weights) + biases\n",
    "    deltas = outputs-targets\n",
    "    loss = np.sum(deltas**2)/ 2 / observations\n",
    "    \n",
    "    print (loss)\n",
    "    \n",
    "    deltas_scaled = deltas/ observations\n",
    "    \n",
    "    weights = weights - learning_rate * np.dot(inputs.T, deltas_scaled)\n",
    "    biases = biases - learning_rate * np.sum(deltas_scaled)\n",
    "    "
   ]
  },
  {
   "cell_type": "markdown",
   "metadata": {},
   "source": [
    "### Print weights and biases and see if we have worked correctly"
   ]
  },
  {
   "cell_type": "code",
   "execution_count": 8,
   "metadata": {},
   "outputs": [
    {
     "name": "stdout",
     "output_type": "stream",
     "text": [
      "[[ 1.58905249]\n",
      " [-2.99509015]] [2.25275205]\n"
     ]
    }
   ],
   "source": [
    "print (weights, biases)"
   ]
  },
  {
   "cell_type": "markdown",
   "metadata": {},
   "source": [
    "### plot last outputs vs targets\n",
    "Since they are the last ones at the end of the training, they represent the final model accuracy. <br/>\n",
    "The closer this plot is to a 45 degree line, the closer target and output values are."
   ]
  },
  {
   "cell_type": "code",
   "execution_count": 9,
   "metadata": {},
   "outputs": [
    {
     "data": {
      "image/png": "[encoded data removed]",
      "text/plain": [
       "<Figure size 432x288 with 1 Axes>"
      ]
     },
     "metadata": {
      "needs_background": "light"
     },
     "output_type": "display_data"
    }
   ],
   "source": [
    "plt.plot(outputs,targets)\n",
    "plt.xlabel('outputs')\n",
    "plt.ylabel('targets')\n",
    "plt.show()"
   ]
  },
  {
   "cell_type": "code",
   "execution_count": null,
   "metadata": {},
   "outputs": [],
   "source": []
  }
 ],
 "metadata": {
  "kernelspec": {
   "display_name": "Python 3",
   "language": "python",
   "name": "python3"
  },
  "language_info": {
   "codemirror_mode": {
    "name": "ipython",
    "version": 3
   },
   "file_extension": ".py",
   "mimetype": "text/x-python",
   "name": "python",
   "nbconvert_exporter": "python",
   "pygments_lexer": "ipython3",
   "version": "3.8.3"
  }
 },
 "nbformat": 4,
 "nbformat_minor": 4
}
